{
 "cells": [
  {
   "cell_type": "code",
   "execution_count": 1,
   "metadata": {},
   "outputs": [],
   "source": [
    "#mengimport library\n",
    "import itertools\n",
    "import numpy as np\n",
    "import matplotlib.pyplot as plt\n",
    "from matplotlib.ticker import NullFormatter\n",
    "import pandas as pd\n",
    "import numpy as np\n",
    "import matplotlib.ticker as ticker\n",
    "from sklearn import preprocessing\n",
    "%matplotlib inline"
   ]
  },
  {
   "cell_type": "code",
   "execution_count": 2,
   "metadata": {},
   "outputs": [],
   "source": [
    "url = \"https://archive.ics.uci.edu/ml/machine-learning-databases/iris/iris.data\""
   ]
  },
  {
   "cell_type": "code",
   "execution_count": 3,
   "metadata": {},
   "outputs": [],
   "source": [
    "# Assign colum names to the dataset\n",
    "names = ['sepal-length', 'sepal-width', 'petal-length', 'petal-width', 'Species']"
   ]
  },
  {
   "cell_type": "code",
   "execution_count": 4,
   "metadata": {},
   "outputs": [],
   "source": [
    "\n",
    "# Read dataset to pandas dataframe\n",
    "dataset = pd.read_csv(url, names=names)"
   ]
  },
  {
   "cell_type": "code",
   "execution_count": 5,
   "metadata": {},
   "outputs": [
    {
     "data": {
      "text/plain": [
       "(150, 5)"
      ]
     },
     "execution_count": 5,
     "metadata": {},
     "output_type": "execute_result"
    }
   ],
   "source": [
    "# We can get a quick idea of how many instances (rows) and how many attributes (columns) the data contains with the shape property.\n",
    "dataset.shape"
   ]
  },
  {
   "cell_type": "code",
   "execution_count": 6,
   "metadata": {},
   "outputs": [
    {
     "data": {
      "text/html": [
       "<div>\n",
       "<style scoped>\n",
       "    .dataframe tbody tr th:only-of-type {\n",
       "        vertical-align: middle;\n",
       "    }\n",
       "\n",
       "    .dataframe tbody tr th {\n",
       "        vertical-align: top;\n",
       "    }\n",
       "\n",
       "    .dataframe thead th {\n",
       "        text-align: right;\n",
       "    }\n",
       "</style>\n",
       "<table border=\"1\" class=\"dataframe\">\n",
       "  <thead>\n",
       "    <tr style=\"text-align: right;\">\n",
       "      <th></th>\n",
       "      <th>sepal-length</th>\n",
       "      <th>sepal-width</th>\n",
       "      <th>petal-length</th>\n",
       "      <th>petal-width</th>\n",
       "      <th>Species</th>\n",
       "    </tr>\n",
       "  </thead>\n",
       "  <tbody>\n",
       "    <tr>\n",
       "      <th>0</th>\n",
       "      <td>5.1</td>\n",
       "      <td>3.5</td>\n",
       "      <td>1.4</td>\n",
       "      <td>0.2</td>\n",
       "      <td>Iris-setosa</td>\n",
       "    </tr>\n",
       "    <tr>\n",
       "      <th>1</th>\n",
       "      <td>4.9</td>\n",
       "      <td>3.0</td>\n",
       "      <td>1.4</td>\n",
       "      <td>0.2</td>\n",
       "      <td>Iris-setosa</td>\n",
       "    </tr>\n",
       "    <tr>\n",
       "      <th>2</th>\n",
       "      <td>4.7</td>\n",
       "      <td>3.2</td>\n",
       "      <td>1.3</td>\n",
       "      <td>0.2</td>\n",
       "      <td>Iris-setosa</td>\n",
       "    </tr>\n",
       "    <tr>\n",
       "      <th>3</th>\n",
       "      <td>4.6</td>\n",
       "      <td>3.1</td>\n",
       "      <td>1.5</td>\n",
       "      <td>0.2</td>\n",
       "      <td>Iris-setosa</td>\n",
       "    </tr>\n",
       "    <tr>\n",
       "      <th>4</th>\n",
       "      <td>5.0</td>\n",
       "      <td>3.6</td>\n",
       "      <td>1.4</td>\n",
       "      <td>0.2</td>\n",
       "      <td>Iris-setosa</td>\n",
       "    </tr>\n",
       "  </tbody>\n",
       "</table>\n",
       "</div>"
      ],
      "text/plain": [
       "   sepal-length  sepal-width  petal-length  petal-width      Species\n",
       "0           5.1          3.5           1.4          0.2  Iris-setosa\n",
       "1           4.9          3.0           1.4          0.2  Iris-setosa\n",
       "2           4.7          3.2           1.3          0.2  Iris-setosa\n",
       "3           4.6          3.1           1.5          0.2  Iris-setosa\n",
       "4           5.0          3.6           1.4          0.2  Iris-setosa"
      ]
     },
     "execution_count": 6,
     "metadata": {},
     "output_type": "execute_result"
    }
   ],
   "source": [
    "dataset.head(5)"
   ]
  },
  {
   "cell_type": "code",
   "execution_count": 7,
   "metadata": {},
   "outputs": [
    {
     "data": {
      "text/html": [
       "<div>\n",
       "<style scoped>\n",
       "    .dataframe tbody tr th:only-of-type {\n",
       "        vertical-align: middle;\n",
       "    }\n",
       "\n",
       "    .dataframe tbody tr th {\n",
       "        vertical-align: top;\n",
       "    }\n",
       "\n",
       "    .dataframe thead th {\n",
       "        text-align: right;\n",
       "    }\n",
       "</style>\n",
       "<table border=\"1\" class=\"dataframe\">\n",
       "  <thead>\n",
       "    <tr style=\"text-align: right;\">\n",
       "      <th></th>\n",
       "      <th>sepal-length</th>\n",
       "      <th>sepal-width</th>\n",
       "      <th>petal-length</th>\n",
       "      <th>petal-width</th>\n",
       "    </tr>\n",
       "  </thead>\n",
       "  <tbody>\n",
       "    <tr>\n",
       "      <th>count</th>\n",
       "      <td>150.000000</td>\n",
       "      <td>150.000000</td>\n",
       "      <td>150.000000</td>\n",
       "      <td>150.000000</td>\n",
       "    </tr>\n",
       "    <tr>\n",
       "      <th>mean</th>\n",
       "      <td>5.843333</td>\n",
       "      <td>3.054000</td>\n",
       "      <td>3.758667</td>\n",
       "      <td>1.198667</td>\n",
       "    </tr>\n",
       "    <tr>\n",
       "      <th>std</th>\n",
       "      <td>0.828066</td>\n",
       "      <td>0.433594</td>\n",
       "      <td>1.764420</td>\n",
       "      <td>0.763161</td>\n",
       "    </tr>\n",
       "    <tr>\n",
       "      <th>min</th>\n",
       "      <td>4.300000</td>\n",
       "      <td>2.000000</td>\n",
       "      <td>1.000000</td>\n",
       "      <td>0.100000</td>\n",
       "    </tr>\n",
       "    <tr>\n",
       "      <th>25%</th>\n",
       "      <td>5.100000</td>\n",
       "      <td>2.800000</td>\n",
       "      <td>1.600000</td>\n",
       "      <td>0.300000</td>\n",
       "    </tr>\n",
       "    <tr>\n",
       "      <th>50%</th>\n",
       "      <td>5.800000</td>\n",
       "      <td>3.000000</td>\n",
       "      <td>4.350000</td>\n",
       "      <td>1.300000</td>\n",
       "    </tr>\n",
       "    <tr>\n",
       "      <th>75%</th>\n",
       "      <td>6.400000</td>\n",
       "      <td>3.300000</td>\n",
       "      <td>5.100000</td>\n",
       "      <td>1.800000</td>\n",
       "    </tr>\n",
       "    <tr>\n",
       "      <th>max</th>\n",
       "      <td>7.900000</td>\n",
       "      <td>4.400000</td>\n",
       "      <td>6.900000</td>\n",
       "      <td>2.500000</td>\n",
       "    </tr>\n",
       "  </tbody>\n",
       "</table>\n",
       "</div>"
      ],
      "text/plain": [
       "       sepal-length  sepal-width  petal-length  petal-width\n",
       "count    150.000000   150.000000    150.000000   150.000000\n",
       "mean       5.843333     3.054000      3.758667     1.198667\n",
       "std        0.828066     0.433594      1.764420     0.763161\n",
       "min        4.300000     2.000000      1.000000     0.100000\n",
       "25%        5.100000     2.800000      1.600000     0.300000\n",
       "50%        5.800000     3.000000      4.350000     1.300000\n",
       "75%        6.400000     3.300000      5.100000     1.800000\n",
       "max        7.900000     4.400000      6.900000     2.500000"
      ]
     },
     "execution_count": 7,
     "metadata": {},
     "output_type": "execute_result"
    }
   ],
   "source": [
    "dataset.describe()"
   ]
  },
  {
   "cell_type": "code",
   "execution_count": 42,
   "metadata": {},
   "outputs": [
    {
     "data": {
      "text/plain": [
       "Species\n",
       "Iris-setosa        50\n",
       "Iris-versicolor    50\n",
       "Iris-virginica     50\n",
       "dtype: int64"
      ]
     },
     "execution_count": 42,
     "metadata": {},
     "output_type": "execute_result"
    }
   ],
   "source": [
    " #Let’s now take a look at the number of instances (rows) that belong to each class. We can view this as an absolute count.\n",
    "dataset.groupby('Species').size()"
   ]
  },
  {
   "cell_type": "code",
   "execution_count": 63,
   "metadata": {},
   "outputs": [],
   "source": [
    "#feature_columns = ['SepalLengthCm', 'SepalWidthCm', 'PetalLengthCm','PetalWidthCm']\n",
    "#X = dataset[feature_columns].values\n",
    "#y = dataset['Species'].values\n",
    "#Alternative way of selecting features and labels arrays:\n",
    "X = dataset.iloc[:, 1:5].values\n",
    "y = dataset.iloc[:, :5].values\n"
   ]
  },
  {
   "cell_type": "code",
   "execution_count": 64,
   "metadata": {},
   "outputs": [],
   "source": [
    "from sklearn.preprocessing import LabelEncoder\n",
    "#le = LabelEncoder()\n",
    "#y = le.fit_transform(y)"
   ]
  },
  {
   "cell_type": "code",
   "execution_count": 80,
   "metadata": {},
   "outputs": [],
   "source": [
    "from sklearn.model_selection import train_test_split\n",
    "X_train, X_test, y_train, y_test = train_test_split(X, y, test_size = 0.2, random_state = 0)"
   ]
  },
  {
   "cell_type": "code",
   "execution_count": 81,
   "metadata": {},
   "outputs": [],
   "source": [
    "import seaborn as sns\n",
    "%matplotlib inline"
   ]
  },
  {
   "cell_type": "code",
   "execution_count": 89,
   "metadata": {},
   "outputs": [
    {
     "ename": "NameError",
     "evalue": "name 'parallel_coordinateset' is not defined",
     "output_type": "error",
     "traceback": [
      "\u001b[1;31m---------------------------------------------------------------------------\u001b[0m",
      "\u001b[1;31mNameError\u001b[0m                                 Traceback (most recent call last)",
      "\u001b[1;32m<ipython-input-89-4787c733b0a2>\u001b[0m in \u001b[0;36m<module>\u001b[1;34m\u001b[0m\n\u001b[0;32m      1\u001b[0m \u001b[1;32mfrom\u001b[0m \u001b[0mpandas\u001b[0m\u001b[1;33m.\u001b[0m\u001b[0mplotting\u001b[0m \u001b[1;32mimport\u001b[0m \u001b[0mparallel_coordinates\u001b[0m\u001b[1;33m\u001b[0m\u001b[1;33m\u001b[0m\u001b[0m\n\u001b[0;32m      2\u001b[0m \u001b[0mplt\u001b[0m\u001b[1;33m.\u001b[0m\u001b[0mfigure\u001b[0m\u001b[1;33m(\u001b[0m\u001b[0mfigsize\u001b[0m\u001b[1;33m=\u001b[0m\u001b[1;33m(\u001b[0m\u001b[1;36m10\u001b[0m\u001b[1;33m,\u001b[0m\u001b[1;36m5\u001b[0m\u001b[1;33m)\u001b[0m\u001b[1;33m)\u001b[0m\u001b[1;33m\u001b[0m\u001b[1;33m\u001b[0m\u001b[0m\n\u001b[1;32m----> 3\u001b[1;33m \u001b[0mparallel_coordinateset\u001b[0m\u001b[1;33m(\u001b[0m\u001b[0mX\u001b[0m\u001b[1;33m,\u001b[0m\u001b[0my\u001b[0m\u001b[1;33m)\u001b[0m\u001b[1;33m\u001b[0m\u001b[1;33m\u001b[0m\u001b[0m\n\u001b[0m\u001b[0;32m      4\u001b[0m \u001b[0mplt\u001b[0m\u001b[1;33m.\u001b[0m\u001b[0mtitle\u001b[0m\u001b[1;33m(\u001b[0m\u001b[1;34m'Parallel Coordinates Plot'\u001b[0m\u001b[1;33m,\u001b[0m \u001b[0mfontsize\u001b[0m\u001b[1;33m=\u001b[0m\u001b[1;36m20\u001b[0m\u001b[1;33m,\u001b[0m \u001b[0mfontweight\u001b[0m\u001b[1;33m=\u001b[0m\u001b[1;34m'bold'\u001b[0m\u001b[1;33m)\u001b[0m\u001b[1;33m\u001b[0m\u001b[1;33m\u001b[0m\u001b[0m\n\u001b[0;32m      5\u001b[0m \u001b[0mplt\u001b[0m\u001b[1;33m.\u001b[0m\u001b[0mxlabel\u001b[0m\u001b[1;33m(\u001b[0m\u001b[1;34m'Features'\u001b[0m\u001b[1;33m,\u001b[0m \u001b[0mfontsize\u001b[0m\u001b[1;33m=\u001b[0m\u001b[1;36m15\u001b[0m\u001b[1;33m)\u001b[0m\u001b[1;33m\u001b[0m\u001b[1;33m\u001b[0m\u001b[0m\n",
      "\u001b[1;31mNameError\u001b[0m: name 'parallel_coordinateset' is not defined"
     ]
    },
    {
     "data": {
      "text/plain": [
       "<Figure size 720x360 with 0 Axes>"
      ]
     },
     "metadata": {},
     "output_type": "display_data"
    }
   ],
   "source": [
    "from pandas.plotting import parallel_coordinates\n",
    "plt.figure(figsize=(10,5))\n",
    "parallel_coordinateset(X,y)\n",
    "plt.title('Parallel Coordinates Plot', fontsize=20, fontweight='bold')\n",
    "plt.xlabel('Features', fontsize=15)\n",
    "plt.ylabel('Features values', fontsize=15)\n",
    "plt.legend(loc=1, prop={'size': 15}, frameon=True,shadow=True, facecolor=\"white\", edgecolor=\"black\")\n",
    "plt.show()"
   ]
  },
  {
   "cell_type": "code",
   "execution_count": 79,
   "metadata": {},
   "outputs": [
    {
     "ename": "ValueError",
     "evalue": "x has 4 columns but y has 5 columns",
     "output_type": "error",
     "traceback": [
      "\u001b[1;31m---------------------------------------------------------------------------\u001b[0m",
      "\u001b[1;31mValueError\u001b[0m                                Traceback (most recent call last)",
      "\u001b[1;32m<ipython-input-79-a24cba814f1e>\u001b[0m in \u001b[0;36m<module>\u001b[1;34m\u001b[0m\n\u001b[0;32m      1\u001b[0m \u001b[0mfig\u001b[0m\u001b[1;33m,\u001b[0m \u001b[0max\u001b[0m \u001b[1;33m=\u001b[0m \u001b[0mplt\u001b[0m\u001b[1;33m.\u001b[0m\u001b[0msubplots\u001b[0m\u001b[1;33m(\u001b[0m\u001b[1;33m)\u001b[0m\u001b[1;33m\u001b[0m\u001b[1;33m\u001b[0m\u001b[0m\n\u001b[0;32m      2\u001b[0m \u001b[0mplt\u001b[0m\u001b[1;33m.\u001b[0m\u001b[0mfigure\u001b[0m\u001b[1;33m(\u001b[0m\u001b[0mfigsize\u001b[0m\u001b[1;33m=\u001b[0m\u001b[1;33m(\u001b[0m\u001b[1;36m12\u001b[0m\u001b[1;33m,\u001b[0m\u001b[1;36m10\u001b[0m\u001b[1;33m)\u001b[0m\u001b[1;33m)\u001b[0m\u001b[1;33m\u001b[0m\u001b[1;33m\u001b[0m\u001b[0m\n\u001b[1;32m----> 3\u001b[1;33m \u001b[0max\u001b[0m\u001b[1;33m.\u001b[0m\u001b[0mplot\u001b[0m\u001b[1;33m(\u001b[0m\u001b[0mX\u001b[0m\u001b[1;33m,\u001b[0m \u001b[0my\u001b[0m\u001b[1;33m)\u001b[0m\u001b[1;33m\u001b[0m\u001b[1;33m\u001b[0m\u001b[0m\n\u001b[0m",
      "\u001b[1;32m~\\anaconda3\\lib\\site-packages\\matplotlib\\axes\\_axes.py\u001b[0m in \u001b[0;36mplot\u001b[1;34m(self, scalex, scaley, data, *args, **kwargs)\u001b[0m\n\u001b[0;32m   1741\u001b[0m         \"\"\"\n\u001b[0;32m   1742\u001b[0m         \u001b[0mkwargs\u001b[0m \u001b[1;33m=\u001b[0m \u001b[0mcbook\u001b[0m\u001b[1;33m.\u001b[0m\u001b[0mnormalize_kwargs\u001b[0m\u001b[1;33m(\u001b[0m\u001b[0mkwargs\u001b[0m\u001b[1;33m,\u001b[0m \u001b[0mmlines\u001b[0m\u001b[1;33m.\u001b[0m\u001b[0mLine2D\u001b[0m\u001b[1;33m)\u001b[0m\u001b[1;33m\u001b[0m\u001b[1;33m\u001b[0m\u001b[0m\n\u001b[1;32m-> 1743\u001b[1;33m         \u001b[0mlines\u001b[0m \u001b[1;33m=\u001b[0m \u001b[1;33m[\u001b[0m\u001b[1;33m*\u001b[0m\u001b[0mself\u001b[0m\u001b[1;33m.\u001b[0m\u001b[0m_get_lines\u001b[0m\u001b[1;33m(\u001b[0m\u001b[1;33m*\u001b[0m\u001b[0margs\u001b[0m\u001b[1;33m,\u001b[0m \u001b[0mdata\u001b[0m\u001b[1;33m=\u001b[0m\u001b[0mdata\u001b[0m\u001b[1;33m,\u001b[0m \u001b[1;33m**\u001b[0m\u001b[0mkwargs\u001b[0m\u001b[1;33m)\u001b[0m\u001b[1;33m]\u001b[0m\u001b[1;33m\u001b[0m\u001b[1;33m\u001b[0m\u001b[0m\n\u001b[0m\u001b[0;32m   1744\u001b[0m         \u001b[1;32mfor\u001b[0m \u001b[0mline\u001b[0m \u001b[1;32min\u001b[0m \u001b[0mlines\u001b[0m\u001b[1;33m:\u001b[0m\u001b[1;33m\u001b[0m\u001b[1;33m\u001b[0m\u001b[0m\n\u001b[0;32m   1745\u001b[0m             \u001b[0mself\u001b[0m\u001b[1;33m.\u001b[0m\u001b[0madd_line\u001b[0m\u001b[1;33m(\u001b[0m\u001b[0mline\u001b[0m\u001b[1;33m)\u001b[0m\u001b[1;33m\u001b[0m\u001b[1;33m\u001b[0m\u001b[0m\n",
      "\u001b[1;32m~\\anaconda3\\lib\\site-packages\\matplotlib\\axes\\_base.py\u001b[0m in \u001b[0;36m__call__\u001b[1;34m(self, data, *args, **kwargs)\u001b[0m\n\u001b[0;32m    271\u001b[0m                 \u001b[0mthis\u001b[0m \u001b[1;33m+=\u001b[0m \u001b[0margs\u001b[0m\u001b[1;33m[\u001b[0m\u001b[1;36m0\u001b[0m\u001b[1;33m]\u001b[0m\u001b[1;33m,\u001b[0m\u001b[1;33m\u001b[0m\u001b[1;33m\u001b[0m\u001b[0m\n\u001b[0;32m    272\u001b[0m                 \u001b[0margs\u001b[0m \u001b[1;33m=\u001b[0m \u001b[0margs\u001b[0m\u001b[1;33m[\u001b[0m\u001b[1;36m1\u001b[0m\u001b[1;33m:\u001b[0m\u001b[1;33m]\u001b[0m\u001b[1;33m\u001b[0m\u001b[1;33m\u001b[0m\u001b[0m\n\u001b[1;32m--> 273\u001b[1;33m             \u001b[1;32myield\u001b[0m \u001b[1;32mfrom\u001b[0m \u001b[0mself\u001b[0m\u001b[1;33m.\u001b[0m\u001b[0m_plot_args\u001b[0m\u001b[1;33m(\u001b[0m\u001b[0mthis\u001b[0m\u001b[1;33m,\u001b[0m \u001b[0mkwargs\u001b[0m\u001b[1;33m)\u001b[0m\u001b[1;33m\u001b[0m\u001b[1;33m\u001b[0m\u001b[0m\n\u001b[0m\u001b[0;32m    274\u001b[0m \u001b[1;33m\u001b[0m\u001b[0m\n\u001b[0;32m    275\u001b[0m     \u001b[1;32mdef\u001b[0m \u001b[0mget_next_color\u001b[0m\u001b[1;33m(\u001b[0m\u001b[0mself\u001b[0m\u001b[1;33m)\u001b[0m\u001b[1;33m:\u001b[0m\u001b[1;33m\u001b[0m\u001b[1;33m\u001b[0m\u001b[0m\n",
      "\u001b[1;32m~\\anaconda3\\lib\\site-packages\\matplotlib\\axes\\_base.py\u001b[0m in \u001b[0;36m_plot_args\u001b[1;34m(self, tup, kwargs)\u001b[0m\n\u001b[0;32m    415\u001b[0m         \u001b[0mncx\u001b[0m\u001b[1;33m,\u001b[0m \u001b[0mncy\u001b[0m \u001b[1;33m=\u001b[0m \u001b[0mx\u001b[0m\u001b[1;33m.\u001b[0m\u001b[0mshape\u001b[0m\u001b[1;33m[\u001b[0m\u001b[1;36m1\u001b[0m\u001b[1;33m]\u001b[0m\u001b[1;33m,\u001b[0m \u001b[0my\u001b[0m\u001b[1;33m.\u001b[0m\u001b[0mshape\u001b[0m\u001b[1;33m[\u001b[0m\u001b[1;36m1\u001b[0m\u001b[1;33m]\u001b[0m\u001b[1;33m\u001b[0m\u001b[1;33m\u001b[0m\u001b[0m\n\u001b[0;32m    416\u001b[0m         \u001b[1;32mif\u001b[0m \u001b[0mncx\u001b[0m \u001b[1;33m>\u001b[0m \u001b[1;36m1\u001b[0m \u001b[1;32mand\u001b[0m \u001b[0mncy\u001b[0m \u001b[1;33m>\u001b[0m \u001b[1;36m1\u001b[0m \u001b[1;32mand\u001b[0m \u001b[0mncx\u001b[0m \u001b[1;33m!=\u001b[0m \u001b[0mncy\u001b[0m\u001b[1;33m:\u001b[0m\u001b[1;33m\u001b[0m\u001b[1;33m\u001b[0m\u001b[0m\n\u001b[1;32m--> 417\u001b[1;33m             \u001b[1;32mraise\u001b[0m \u001b[0mValueError\u001b[0m\u001b[1;33m(\u001b[0m\u001b[1;34mf\"x has {ncx} columns but y has {ncy} columns\"\u001b[0m\u001b[1;33m)\u001b[0m\u001b[1;33m\u001b[0m\u001b[1;33m\u001b[0m\u001b[0m\n\u001b[0m\u001b[0;32m    418\u001b[0m         return [func(x[:, j % ncx], y[:, j % ncy], kw, kwargs)\n\u001b[0;32m    419\u001b[0m                 for j in range(max(ncx, ncy))]\n",
      "\u001b[1;31mValueError\u001b[0m: x has 4 columns but y has 5 columns"
     ]
    },
    {
     "data": {
      "image/png": "[encoded data removed]",
      "text/plain": [
       "<Figure size 432x288 with 1 Axes>"
      ]
     },
     "metadata": {
      "needs_background": "light"
     },
     "output_type": "display_data"
    },
    {
     "data": {
      "text/plain": [
       "<Figure size 864x720 with 0 Axes>"
      ]
     },
     "metadata": {},
     "output_type": "display_data"
    }
   ],
   "source": [
    "fig, ax = plt.subplots()\n",
    "plt.figure(figsize=(12,10))\n",
    "ax.plot(X, y)\n"
   ]
  },
  {
   "cell_type": "code",
   "execution_count": 62,
   "metadata": {},
   "outputs": [
    {
     "ename": "KeyError",
     "evalue": "\"[(3.5, 1.4, 0.2, 'Iris-setosa') (3.0, 1.4, 0.2, 'Iris-setosa')\\n (3.2, 1.3, 0.2, 'Iris-setosa') (3.1, 1.5, 0.2, 'Iris-setosa')\\n (3.6, 1.4, 0.2, 'Iris-setosa') (3.9, 1.7, 0.4, 'Iris-setosa')\\n (3.4, 1.4, 0.3, 'Iris-setosa') (3.4, 1.5, 0.2, 'Iris-setosa')\\n (2.9, 1.4, 0.2, 'Iris-setosa') (3.1, 1.5, 0.1, 'Iris-setosa')\\n (3.7, 1.5, 0.2, 'Iris-setosa') (3.4, 1.6, 0.2, 'Iris-setosa')\\n (3.0, 1.4, 0.1, 'Iris-setosa') (3.0, 1.1, 0.1, 'Iris-setosa')\\n (4.0, 1.2, 0.2, 'Iris-setosa') (4.4, 1.5, 0.4, 'Iris-setosa')\\n (3.9, 1.3, 0.4, 'Iris-setosa') (3.5, 1.4, 0.3, 'Iris-setosa')\\n (3.8, 1.7, 0.3, 'Iris-setosa') (3.8, 1.5, 0.3, 'Iris-setosa')\\n (3.4, 1.7, 0.2, 'Iris-setosa') (3.7, 1.5, 0.4, 'Iris-setosa')\\n (3.6, 1.0, 0.2, 'Iris-setosa') (3.3, 1.7, 0.5, 'Iris-setosa')\\n (3.4, 1.9, 0.2, 'Iris-setosa') (3.0, 1.6, 0.2, 'Iris-setosa')\\n (3.4, 1.6, 0.4, 'Iris-setosa') (3.5, 1.5, 0.2, 'Iris-setosa')\\n (3.4, 1.4, 0.2, 'Iris-setosa') (3.2, 1.6, 0.2, 'Iris-setosa')\\n (3.1, 1.6, 0.2, 'Iris-setosa') (3.4, 1.5, 0.4, 'Iris-setosa')\\n (4.1, 1.5, 0.1, 'Iris-setosa') (4.2, 1.4, 0.2, 'Iris-setosa')\\n (3.1, 1.5, 0.1, 'Iris-setosa') (3.2, 1.2, 0.2, 'Iris-setosa')\\n (3.5, 1.3, 0.2, 'Iris-setosa') (3.1, 1.5, 0.1, 'Iris-setosa')\\n (3.0, 1.3, 0.2, 'Iris-setosa') (3.4, 1.5, 0.2, 'Iris-setosa')\\n (3.5, 1.3, 0.3, 'Iris-setosa') (2.3, 1.3, 0.3, 'Iris-setosa')\\n (3.2, 1.3, 0.2, 'Iris-setosa') (3.5, 1.6, 0.6, 'Iris-setosa')\\n (3.8, 1.9, 0.4, 'Iris-setosa') (3.0, 1.4, 0.3, 'Iris-setosa')\\n (3.8, 1.6, 0.2, 'Iris-setosa') (3.2, 1.4, 0.2, 'Iris-setosa')\\n (3.7, 1.5, 0.2, 'Iris-setosa') (3.3, 1.4, 0.2, 'Iris-setosa')\\n (3.2, 4.7, 1.4, 'Iris-versicolor') (3.2, 4.5, 1.5, 'Iris-versicolor')\\n (3.1, 4.9, 1.5, 'Iris-versicolor') (2.3, 4.0, 1.3, 'Iris-versicolor')\\n (2.8, 4.6, 1.5, 'Iris-versicolor') (2.8, 4.5, 1.3, 'Iris-versicolor')\\n (3.3, 4.7, 1.6, 'Iris-versicolor') (2.4, 3.3, 1.0, 'Iris-versicolor')\\n (2.9, 4.6, 1.3, 'Iris-versicolor') (2.7, 3.9, 1.4, 'Iris-versicolor')\\n (2.0, 3.5, 1.0, 'Iris-versicolor') (3.0, 4.2, 1.5, 'Iris-versicolor')\\n (2.2, 4.0, 1.0, 'Iris-versicolor') (2.9, 4.7, 1.4, 'Iris-versicolor')\\n (2.9, 3.6, 1.3, 'Iris-versicolor') (3.1, 4.4, 1.4, 'Iris-versicolor')\\n (3.0, 4.5, 1.5, 'Iris-versicolor') (2.7, 4.1, 1.0, 'Iris-versicolor')\\n (2.2, 4.5, 1.5, 'Iris-versicolor') (2.5, 3.9, 1.1, 'Iris-versicolor')\\n (3.2, 4.8, 1.8, 'Iris-versicolor') (2.8, 4.0, 1.3, 'Iris-versicolor')\\n (2.5, 4.9, 1.5, 'Iris-versicolor') (2.8, 4.7, 1.2, 'Iris-versicolor')\\n (2.9, 4.3, 1.3, 'Iris-versicolor') (3.0, 4.4, 1.4, 'Iris-versicolor')\\n (2.8, 4.8, 1.4, 'Iris-versicolor') (3.0, 5.0, 1.7, 'Iris-versicolor')\\n (2.9, 4.5, 1.5, 'Iris-versicolor') (2.6, 3.5, 1.0, 'Iris-versicolor')\\n (2.4, 3.8, 1.1, 'Iris-versicolor') (2.4, 3.7, 1.0, 'Iris-versicolor')\\n (2.7, 3.9, 1.2, 'Iris-versicolor') (2.7, 5.1, 1.6, 'Iris-versicolor')\\n (3.0, 4.5, 1.5, 'Iris-versicolor') (3.4, 4.5, 1.6, 'Iris-versicolor')\\n (3.1, 4.7, 1.5, 'Iris-versicolor') (2.3, 4.4, 1.3, 'Iris-versicolor')\\n (3.0, 4.1, 1.3, 'Iris-versicolor') (2.5, 4.0, 1.3, 'Iris-versicolor')\\n (2.6, 4.4, 1.2, 'Iris-versicolor') (3.0, 4.6, 1.4, 'Iris-versicolor')\\n (2.6, 4.0, 1.2, 'Iris-versicolor') (2.3, 3.3, 1.0, 'Iris-versicolor')\\n (2.7, 4.2, 1.3, 'Iris-versicolor') (3.0, 4.2, 1.2, 'Iris-versicolor')\\n (2.9, 4.2, 1.3, 'Iris-versicolor') (2.9, 4.3, 1.3, 'Iris-versicolor')\\n (2.5, 3.0, 1.1, 'Iris-versicolor') (2.8, 4.1, 1.3, 'Iris-versicolor')\\n (3.3, 6.0, 2.5, 'Iris-virginica') (2.7, 5.1, 1.9, 'Iris-virginica')\\n (3.0, 5.9, 2.1, 'Iris-virginica') (2.9, 5.6, 1.8, 'Iris-virginica')\\n (3.0, 5.8, 2.2, 'Iris-virginica') (3.0, 6.6, 2.1, 'Iris-virginica')\\n (2.5, 4.5, 1.7, 'Iris-virginica') (2.9, 6.3, 1.8, 'Iris-virginica')\\n (2.5, 5.8, 1.8, 'Iris-virginica') (3.6, 6.1, 2.5, 'Iris-virginica')\\n (3.2, 5.1, 2.0, 'Iris-virginica') (2.7, 5.3, 1.9, 'Iris-virginica')\\n (3.0, 5.5, 2.1, 'Iris-virginica') (2.5, 5.0, 2.0, 'Iris-virginica')\\n (2.8, 5.1, 2.4, 'Iris-virginica') (3.2, 5.3, 2.3, 'Iris-virginica')\\n (3.0, 5.5, 1.8, 'Iris-virginica') (3.8, 6.7, 2.2, 'Iris-virginica')\\n (2.6, 6.9, 2.3, 'Iris-virginica') (2.2, 5.0, 1.5, 'Iris-virginica')\\n (3.2, 5.7, 2.3, 'Iris-virginica') (2.8, 4.9, 2.0, 'Iris-virginica')\\n (2.8, 6.7, 2.0, 'Iris-virginica') (2.7, 4.9, 1.8, 'Iris-virginica')\\n (3.3, 5.7, 2.1, 'Iris-virginica') (3.2, 6.0, 1.8, 'Iris-virginica')\\n (2.8, 4.8, 1.8, 'Iris-virginica') (3.0, 4.9, 1.8, 'Iris-virginica')\\n (2.8, 5.6, 2.1, 'Iris-virginica') (3.0, 5.8, 1.6, 'Iris-virginica')\\n (2.8, 6.1, 1.9, 'Iris-virginica') (3.8, 6.4, 2.0, 'Iris-virginica')\\n (2.8, 5.6, 2.2, 'Iris-virginica') (2.8, 5.1, 1.5, 'Iris-virginica')\\n (2.6, 5.6, 1.4, 'Iris-virginica') (3.0, 6.1, 2.3, 'Iris-virginica')\\n (3.4, 5.6, 2.4, 'Iris-virginica') (3.1, 5.5, 1.8, 'Iris-virginica')\\n (3.0, 4.8, 1.8, 'Iris-virginica') (3.1, 5.4, 2.1, 'Iris-virginica')\\n (3.1, 5.6, 2.4, 'Iris-virginica') (3.1, 5.1, 2.3, 'Iris-virginica')\\n (2.7, 5.1, 1.9, 'Iris-virginica') (3.2, 5.9, 2.3, 'Iris-virginica')\\n (3.3, 5.7, 2.5, 'Iris-virginica') (3.0, 5.2, 2.3, 'Iris-virginica')\\n (2.5, 5.0, 1.9, 'Iris-virginica') (3.0, 5.2, 2.0, 'Iris-virginica')\\n (3.4, 5.4, 2.3, 'Iris-virginica') (3.0, 5.1, 1.8, 'Iris-virginica')] not found in axis\"",
     "output_type": "error",
     "traceback": [
      "\u001b[1;31m---------------------------------------------------------------------------\u001b[0m",
      "\u001b[1;31mKeyError\u001b[0m                                  Traceback (most recent call last)",
      "\u001b[1;32m<ipython-input-62-083202b2ea76>\u001b[0m in \u001b[0;36m<module>\u001b[1;34m\u001b[0m\n\u001b[0;32m      1\u001b[0m \u001b[1;32mfrom\u001b[0m \u001b[0mpandas\u001b[0m\u001b[1;33m.\u001b[0m\u001b[0mplotting\u001b[0m \u001b[1;32mimport\u001b[0m \u001b[0mandrews_curves\u001b[0m\u001b[1;33m\u001b[0m\u001b[1;33m\u001b[0m\u001b[0m\n\u001b[0;32m      2\u001b[0m \u001b[0mplt\u001b[0m\u001b[1;33m.\u001b[0m\u001b[0mfigure\u001b[0m\u001b[1;33m(\u001b[0m\u001b[0mfigsize\u001b[0m\u001b[1;33m=\u001b[0m\u001b[1;33m(\u001b[0m\u001b[1;36m10\u001b[0m\u001b[1;33m,\u001b[0m\u001b[1;36m5\u001b[0m\u001b[1;33m)\u001b[0m\u001b[1;33m)\u001b[0m\u001b[1;33m\u001b[0m\u001b[1;33m\u001b[0m\u001b[0m\n\u001b[1;32m----> 3\u001b[1;33m \u001b[0mandrews_curves\u001b[0m\u001b[1;33m(\u001b[0m\u001b[0mdataset\u001b[0m\u001b[1;33m.\u001b[0m\u001b[0mdrop\u001b[0m\u001b[1;33m(\u001b[0m\u001b[0mId\u001b[0m\u001b[1;33m,\u001b[0m \u001b[0maxis\u001b[0m\u001b[1;33m=\u001b[0m\u001b[1;36m1\u001b[0m\u001b[1;33m)\u001b[0m\u001b[1;33m,\u001b[0m \u001b[1;34m\"Species\"\u001b[0m\u001b[1;33m)\u001b[0m\u001b[1;33m\u001b[0m\u001b[1;33m\u001b[0m\u001b[0m\n\u001b[0m\u001b[0;32m      4\u001b[0m \u001b[0mplt\u001b[0m\u001b[1;33m.\u001b[0m\u001b[0mtitle\u001b[0m\u001b[1;33m(\u001b[0m\u001b[1;34m'Andrews Curves Plot'\u001b[0m\u001b[1;33m,\u001b[0m \u001b[0mfontsize\u001b[0m\u001b[1;33m=\u001b[0m\u001b[1;36m20\u001b[0m\u001b[1;33m,\u001b[0m \u001b[0mfontweight\u001b[0m\u001b[1;33m=\u001b[0m\u001b[1;34m'bold'\u001b[0m\u001b[1;33m)\u001b[0m\u001b[1;33m\u001b[0m\u001b[1;33m\u001b[0m\u001b[0m\n\u001b[0;32m      5\u001b[0m \u001b[0mplt\u001b[0m\u001b[1;33m.\u001b[0m\u001b[0mlegend\u001b[0m\u001b[1;33m(\u001b[0m\u001b[0mloc\u001b[0m\u001b[1;33m=\u001b[0m\u001b[1;36m1\u001b[0m\u001b[1;33m,\u001b[0m \u001b[0mprop\u001b[0m\u001b[1;33m=\u001b[0m\u001b[1;33m{\u001b[0m\u001b[1;34m'size'\u001b[0m\u001b[1;33m:\u001b[0m \u001b[1;36m15\u001b[0m\u001b[1;33m}\u001b[0m\u001b[1;33m,\u001b[0m \u001b[0mframeon\u001b[0m\u001b[1;33m=\u001b[0m\u001b[1;32mTrue\u001b[0m\u001b[1;33m,\u001b[0m\u001b[0mshadow\u001b[0m\u001b[1;33m=\u001b[0m\u001b[1;32mTrue\u001b[0m\u001b[1;33m,\u001b[0m \u001b[0mfacecolor\u001b[0m\u001b[1;33m=\u001b[0m\u001b[1;34m\"white\"\u001b[0m\u001b[1;33m,\u001b[0m \u001b[0medgecolor\u001b[0m\u001b[1;33m=\u001b[0m\u001b[1;34m\"black\"\u001b[0m\u001b[1;33m)\u001b[0m\u001b[1;33m\u001b[0m\u001b[1;33m\u001b[0m\u001b[0m\n",
      "\u001b[1;32m~\\anaconda3\\lib\\site-packages\\pandas\\core\\frame.py\u001b[0m in \u001b[0;36mdrop\u001b[1;34m(self, labels, axis, index, columns, level, inplace, errors)\u001b[0m\n\u001b[0;32m   4168\u001b[0m             \u001b[0mlevel\u001b[0m\u001b[1;33m=\u001b[0m\u001b[0mlevel\u001b[0m\u001b[1;33m,\u001b[0m\u001b[1;33m\u001b[0m\u001b[1;33m\u001b[0m\u001b[0m\n\u001b[0;32m   4169\u001b[0m             \u001b[0minplace\u001b[0m\u001b[1;33m=\u001b[0m\u001b[0minplace\u001b[0m\u001b[1;33m,\u001b[0m\u001b[1;33m\u001b[0m\u001b[1;33m\u001b[0m\u001b[0m\n\u001b[1;32m-> 4170\u001b[1;33m             \u001b[0merrors\u001b[0m\u001b[1;33m=\u001b[0m\u001b[0merrors\u001b[0m\u001b[1;33m,\u001b[0m\u001b[1;33m\u001b[0m\u001b[1;33m\u001b[0m\u001b[0m\n\u001b[0m\u001b[0;32m   4171\u001b[0m         )\n\u001b[0;32m   4172\u001b[0m \u001b[1;33m\u001b[0m\u001b[0m\n",
      "\u001b[1;32m~\\anaconda3\\lib\\site-packages\\pandas\\core\\generic.py\u001b[0m in \u001b[0;36mdrop\u001b[1;34m(self, labels, axis, index, columns, level, inplace, errors)\u001b[0m\n\u001b[0;32m   3885\u001b[0m         \u001b[1;32mfor\u001b[0m \u001b[0maxis\u001b[0m\u001b[1;33m,\u001b[0m \u001b[0mlabels\u001b[0m \u001b[1;32min\u001b[0m \u001b[0maxes\u001b[0m\u001b[1;33m.\u001b[0m\u001b[0mitems\u001b[0m\u001b[1;33m(\u001b[0m\u001b[1;33m)\u001b[0m\u001b[1;33m:\u001b[0m\u001b[1;33m\u001b[0m\u001b[1;33m\u001b[0m\u001b[0m\n\u001b[0;32m   3886\u001b[0m             \u001b[1;32mif\u001b[0m \u001b[0mlabels\u001b[0m \u001b[1;32mis\u001b[0m \u001b[1;32mnot\u001b[0m \u001b[1;32mNone\u001b[0m\u001b[1;33m:\u001b[0m\u001b[1;33m\u001b[0m\u001b[1;33m\u001b[0m\u001b[0m\n\u001b[1;32m-> 3887\u001b[1;33m                 \u001b[0mobj\u001b[0m \u001b[1;33m=\u001b[0m \u001b[0mobj\u001b[0m\u001b[1;33m.\u001b[0m\u001b[0m_drop_axis\u001b[0m\u001b[1;33m(\u001b[0m\u001b[0mlabels\u001b[0m\u001b[1;33m,\u001b[0m \u001b[0maxis\u001b[0m\u001b[1;33m,\u001b[0m \u001b[0mlevel\u001b[0m\u001b[1;33m=\u001b[0m\u001b[0mlevel\u001b[0m\u001b[1;33m,\u001b[0m \u001b[0merrors\u001b[0m\u001b[1;33m=\u001b[0m\u001b[0merrors\u001b[0m\u001b[1;33m)\u001b[0m\u001b[1;33m\u001b[0m\u001b[1;33m\u001b[0m\u001b[0m\n\u001b[0m\u001b[0;32m   3888\u001b[0m \u001b[1;33m\u001b[0m\u001b[0m\n\u001b[0;32m   3889\u001b[0m         \u001b[1;32mif\u001b[0m \u001b[0minplace\u001b[0m\u001b[1;33m:\u001b[0m\u001b[1;33m\u001b[0m\u001b[1;33m\u001b[0m\u001b[0m\n",
      "\u001b[1;32m~\\anaconda3\\lib\\site-packages\\pandas\\core\\generic.py\u001b[0m in \u001b[0;36m_drop_axis\u001b[1;34m(self, labels, axis, level, errors)\u001b[0m\n\u001b[0;32m   3919\u001b[0m                 \u001b[0mnew_axis\u001b[0m \u001b[1;33m=\u001b[0m \u001b[0maxis\u001b[0m\u001b[1;33m.\u001b[0m\u001b[0mdrop\u001b[0m\u001b[1;33m(\u001b[0m\u001b[0mlabels\u001b[0m\u001b[1;33m,\u001b[0m \u001b[0mlevel\u001b[0m\u001b[1;33m=\u001b[0m\u001b[0mlevel\u001b[0m\u001b[1;33m,\u001b[0m \u001b[0merrors\u001b[0m\u001b[1;33m=\u001b[0m\u001b[0merrors\u001b[0m\u001b[1;33m)\u001b[0m\u001b[1;33m\u001b[0m\u001b[1;33m\u001b[0m\u001b[0m\n\u001b[0;32m   3920\u001b[0m             \u001b[1;32melse\u001b[0m\u001b[1;33m:\u001b[0m\u001b[1;33m\u001b[0m\u001b[1;33m\u001b[0m\u001b[0m\n\u001b[1;32m-> 3921\u001b[1;33m                 \u001b[0mnew_axis\u001b[0m \u001b[1;33m=\u001b[0m \u001b[0maxis\u001b[0m\u001b[1;33m.\u001b[0m\u001b[0mdrop\u001b[0m\u001b[1;33m(\u001b[0m\u001b[0mlabels\u001b[0m\u001b[1;33m,\u001b[0m \u001b[0merrors\u001b[0m\u001b[1;33m=\u001b[0m\u001b[0merrors\u001b[0m\u001b[1;33m)\u001b[0m\u001b[1;33m\u001b[0m\u001b[1;33m\u001b[0m\u001b[0m\n\u001b[0m\u001b[0;32m   3922\u001b[0m             \u001b[0mresult\u001b[0m \u001b[1;33m=\u001b[0m \u001b[0mself\u001b[0m\u001b[1;33m.\u001b[0m\u001b[0mreindex\u001b[0m\u001b[1;33m(\u001b[0m\u001b[1;33m**\u001b[0m\u001b[1;33m{\u001b[0m\u001b[0maxis_name\u001b[0m\u001b[1;33m:\u001b[0m \u001b[0mnew_axis\u001b[0m\u001b[1;33m}\u001b[0m\u001b[1;33m)\u001b[0m\u001b[1;33m\u001b[0m\u001b[1;33m\u001b[0m\u001b[0m\n\u001b[0;32m   3923\u001b[0m \u001b[1;33m\u001b[0m\u001b[0m\n",
      "\u001b[1;32m~\\anaconda3\\lib\\site-packages\\pandas\\core\\indexes\\base.py\u001b[0m in \u001b[0;36mdrop\u001b[1;34m(self, labels, errors)\u001b[0m\n\u001b[0;32m   5280\u001b[0m         \u001b[1;32mif\u001b[0m \u001b[0mmask\u001b[0m\u001b[1;33m.\u001b[0m\u001b[0many\u001b[0m\u001b[1;33m(\u001b[0m\u001b[1;33m)\u001b[0m\u001b[1;33m:\u001b[0m\u001b[1;33m\u001b[0m\u001b[1;33m\u001b[0m\u001b[0m\n\u001b[0;32m   5281\u001b[0m             \u001b[1;32mif\u001b[0m \u001b[0merrors\u001b[0m \u001b[1;33m!=\u001b[0m \u001b[1;34m\"ignore\"\u001b[0m\u001b[1;33m:\u001b[0m\u001b[1;33m\u001b[0m\u001b[1;33m\u001b[0m\u001b[0m\n\u001b[1;32m-> 5282\u001b[1;33m                 \u001b[1;32mraise\u001b[0m \u001b[0mKeyError\u001b[0m\u001b[1;33m(\u001b[0m\u001b[1;34mf\"{labels[mask]} not found in axis\"\u001b[0m\u001b[1;33m)\u001b[0m\u001b[1;33m\u001b[0m\u001b[1;33m\u001b[0m\u001b[0m\n\u001b[0m\u001b[0;32m   5283\u001b[0m             \u001b[0mindexer\u001b[0m \u001b[1;33m=\u001b[0m \u001b[0mindexer\u001b[0m\u001b[1;33m[\u001b[0m\u001b[1;33m~\u001b[0m\u001b[0mmask\u001b[0m\u001b[1;33m]\u001b[0m\u001b[1;33m\u001b[0m\u001b[1;33m\u001b[0m\u001b[0m\n\u001b[0;32m   5284\u001b[0m         \u001b[1;32mreturn\u001b[0m \u001b[0mself\u001b[0m\u001b[1;33m.\u001b[0m\u001b[0mdelete\u001b[0m\u001b[1;33m(\u001b[0m\u001b[0mindexer\u001b[0m\u001b[1;33m)\u001b[0m\u001b[1;33m\u001b[0m\u001b[1;33m\u001b[0m\u001b[0m\n",
      "\u001b[1;31mKeyError\u001b[0m: \"[(3.5, 1.4, 0.2, 'Iris-setosa') (3.0, 1.4, 0.2, 'Iris-setosa')\\n (3.2, 1.3, 0.2, 'Iris-setosa') (3.1, 1.5, 0.2, 'Iris-setosa')\\n (3.6, 1.4, 0.2, 'Iris-setosa') (3.9, 1.7, 0.4, 'Iris-setosa')\\n (3.4, 1.4, 0.3, 'Iris-setosa') (3.4, 1.5, 0.2, 'Iris-setosa')\\n (2.9, 1.4, 0.2, 'Iris-setosa') (3.1, 1.5, 0.1, 'Iris-setosa')\\n (3.7, 1.5, 0.2, 'Iris-setosa') (3.4, 1.6, 0.2, 'Iris-setosa')\\n (3.0, 1.4, 0.1, 'Iris-setosa') (3.0, 1.1, 0.1, 'Iris-setosa')\\n (4.0, 1.2, 0.2, 'Iris-setosa') (4.4, 1.5, 0.4, 'Iris-setosa')\\n (3.9, 1.3, 0.4, 'Iris-setosa') (3.5, 1.4, 0.3, 'Iris-setosa')\\n (3.8, 1.7, 0.3, 'Iris-setosa') (3.8, 1.5, 0.3, 'Iris-setosa')\\n (3.4, 1.7, 0.2, 'Iris-setosa') (3.7, 1.5, 0.4, 'Iris-setosa')\\n (3.6, 1.0, 0.2, 'Iris-setosa') (3.3, 1.7, 0.5, 'Iris-setosa')\\n (3.4, 1.9, 0.2, 'Iris-setosa') (3.0, 1.6, 0.2, 'Iris-setosa')\\n (3.4, 1.6, 0.4, 'Iris-setosa') (3.5, 1.5, 0.2, 'Iris-setosa')\\n (3.4, 1.4, 0.2, 'Iris-setosa') (3.2, 1.6, 0.2, 'Iris-setosa')\\n (3.1, 1.6, 0.2, 'Iris-setosa') (3.4, 1.5, 0.4, 'Iris-setosa')\\n (4.1, 1.5, 0.1, 'Iris-setosa') (4.2, 1.4, 0.2, 'Iris-setosa')\\n (3.1, 1.5, 0.1, 'Iris-setosa') (3.2, 1.2, 0.2, 'Iris-setosa')\\n (3.5, 1.3, 0.2, 'Iris-setosa') (3.1, 1.5, 0.1, 'Iris-setosa')\\n (3.0, 1.3, 0.2, 'Iris-setosa') (3.4, 1.5, 0.2, 'Iris-setosa')\\n (3.5, 1.3, 0.3, 'Iris-setosa') (2.3, 1.3, 0.3, 'Iris-setosa')\\n (3.2, 1.3, 0.2, 'Iris-setosa') (3.5, 1.6, 0.6, 'Iris-setosa')\\n (3.8, 1.9, 0.4, 'Iris-setosa') (3.0, 1.4, 0.3, 'Iris-setosa')\\n (3.8, 1.6, 0.2, 'Iris-setosa') (3.2, 1.4, 0.2, 'Iris-setosa')\\n (3.7, 1.5, 0.2, 'Iris-setosa') (3.3, 1.4, 0.2, 'Iris-setosa')\\n (3.2, 4.7, 1.4, 'Iris-versicolor') (3.2, 4.5, 1.5, 'Iris-versicolor')\\n (3.1, 4.9, 1.5, 'Iris-versicolor') (2.3, 4.0, 1.3, 'Iris-versicolor')\\n (2.8, 4.6, 1.5, 'Iris-versicolor') (2.8, 4.5, 1.3, 'Iris-versicolor')\\n (3.3, 4.7, 1.6, 'Iris-versicolor') (2.4, 3.3, 1.0, 'Iris-versicolor')\\n (2.9, 4.6, 1.3, 'Iris-versicolor') (2.7, 3.9, 1.4, 'Iris-versicolor')\\n (2.0, 3.5, 1.0, 'Iris-versicolor') (3.0, 4.2, 1.5, 'Iris-versicolor')\\n (2.2, 4.0, 1.0, 'Iris-versicolor') (2.9, 4.7, 1.4, 'Iris-versicolor')\\n (2.9, 3.6, 1.3, 'Iris-versicolor') (3.1, 4.4, 1.4, 'Iris-versicolor')\\n (3.0, 4.5, 1.5, 'Iris-versicolor') (2.7, 4.1, 1.0, 'Iris-versicolor')\\n (2.2, 4.5, 1.5, 'Iris-versicolor') (2.5, 3.9, 1.1, 'Iris-versicolor')\\n (3.2, 4.8, 1.8, 'Iris-versicolor') (2.8, 4.0, 1.3, 'Iris-versicolor')\\n (2.5, 4.9, 1.5, 'Iris-versicolor') (2.8, 4.7, 1.2, 'Iris-versicolor')\\n (2.9, 4.3, 1.3, 'Iris-versicolor') (3.0, 4.4, 1.4, 'Iris-versicolor')\\n (2.8, 4.8, 1.4, 'Iris-versicolor') (3.0, 5.0, 1.7, 'Iris-versicolor')\\n (2.9, 4.5, 1.5, 'Iris-versicolor') (2.6, 3.5, 1.0, 'Iris-versicolor')\\n (2.4, 3.8, 1.1, 'Iris-versicolor') (2.4, 3.7, 1.0, 'Iris-versicolor')\\n (2.7, 3.9, 1.2, 'Iris-versicolor') (2.7, 5.1, 1.6, 'Iris-versicolor')\\n (3.0, 4.5, 1.5, 'Iris-versicolor') (3.4, 4.5, 1.6, 'Iris-versicolor')\\n (3.1, 4.7, 1.5, 'Iris-versicolor') (2.3, 4.4, 1.3, 'Iris-versicolor')\\n (3.0, 4.1, 1.3, 'Iris-versicolor') (2.5, 4.0, 1.3, 'Iris-versicolor')\\n (2.6, 4.4, 1.2, 'Iris-versicolor') (3.0, 4.6, 1.4, 'Iris-versicolor')\\n (2.6, 4.0, 1.2, 'Iris-versicolor') (2.3, 3.3, 1.0, 'Iris-versicolor')\\n (2.7, 4.2, 1.3, 'Iris-versicolor') (3.0, 4.2, 1.2, 'Iris-versicolor')\\n (2.9, 4.2, 1.3, 'Iris-versicolor') (2.9, 4.3, 1.3, 'Iris-versicolor')\\n (2.5, 3.0, 1.1, 'Iris-versicolor') (2.8, 4.1, 1.3, 'Iris-versicolor')\\n (3.3, 6.0, 2.5, 'Iris-virginica') (2.7, 5.1, 1.9, 'Iris-virginica')\\n (3.0, 5.9, 2.1, 'Iris-virginica') (2.9, 5.6, 1.8, 'Iris-virginica')\\n (3.0, 5.8, 2.2, 'Iris-virginica') (3.0, 6.6, 2.1, 'Iris-virginica')\\n (2.5, 4.5, 1.7, 'Iris-virginica') (2.9, 6.3, 1.8, 'Iris-virginica')\\n (2.5, 5.8, 1.8, 'Iris-virginica') (3.6, 6.1, 2.5, 'Iris-virginica')\\n (3.2, 5.1, 2.0, 'Iris-virginica') (2.7, 5.3, 1.9, 'Iris-virginica')\\n (3.0, 5.5, 2.1, 'Iris-virginica') (2.5, 5.0, 2.0, 'Iris-virginica')\\n (2.8, 5.1, 2.4, 'Iris-virginica') (3.2, 5.3, 2.3, 'Iris-virginica')\\n (3.0, 5.5, 1.8, 'Iris-virginica') (3.8, 6.7, 2.2, 'Iris-virginica')\\n (2.6, 6.9, 2.3, 'Iris-virginica') (2.2, 5.0, 1.5, 'Iris-virginica')\\n (3.2, 5.7, 2.3, 'Iris-virginica') (2.8, 4.9, 2.0, 'Iris-virginica')\\n (2.8, 6.7, 2.0, 'Iris-virginica') (2.7, 4.9, 1.8, 'Iris-virginica')\\n (3.3, 5.7, 2.1, 'Iris-virginica') (3.2, 6.0, 1.8, 'Iris-virginica')\\n (2.8, 4.8, 1.8, 'Iris-virginica') (3.0, 4.9, 1.8, 'Iris-virginica')\\n (2.8, 5.6, 2.1, 'Iris-virginica') (3.0, 5.8, 1.6, 'Iris-virginica')\\n (2.8, 6.1, 1.9, 'Iris-virginica') (3.8, 6.4, 2.0, 'Iris-virginica')\\n (2.8, 5.6, 2.2, 'Iris-virginica') (2.8, 5.1, 1.5, 'Iris-virginica')\\n (2.6, 5.6, 1.4, 'Iris-virginica') (3.0, 6.1, 2.3, 'Iris-virginica')\\n (3.4, 5.6, 2.4, 'Iris-virginica') (3.1, 5.5, 1.8, 'Iris-virginica')\\n (3.0, 4.8, 1.8, 'Iris-virginica') (3.1, 5.4, 2.1, 'Iris-virginica')\\n (3.1, 5.6, 2.4, 'Iris-virginica') (3.1, 5.1, 2.3, 'Iris-virginica')\\n (2.7, 5.1, 1.9, 'Iris-virginica') (3.2, 5.9, 2.3, 'Iris-virginica')\\n (3.3, 5.7, 2.5, 'Iris-virginica') (3.0, 5.2, 2.3, 'Iris-virginica')\\n (2.5, 5.0, 1.9, 'Iris-virginica') (3.0, 5.2, 2.0, 'Iris-virginica')\\n (3.4, 5.4, 2.3, 'Iris-virginica') (3.0, 5.1, 1.8, 'Iris-virginica')] not found in axis\""
     ]
    },
    {
     "data": {
      "text/plain": [
       "<Figure size 720x360 with 0 Axes>"
      ]
     },
     "metadata": {},
     "output_type": "display_data"
    }
   ],
   "source": [
    "from pandas.plotting import andrews_curves\n",
    "plt.figure(figsize=(10,5))\n",
    "andrews_curves(dataset.drop(Id, axis=1), \"Species\")\n",
    "plt.title('Andrews Curves Plot', fontsize=20, fontweight='bold')\n",
    "plt.legend(loc=1, prop={'size': 15}, frameon=True,shadow=True, facecolor=\"white\", edgecolor=\"black\")\n",
    "plt.show()"
   ]
  },
  {
   "cell_type": "code",
   "execution_count": null,
   "metadata": {},
   "outputs": [],
   "source": []
  }
 ],
 "metadata": {
  "kernelspec": {
   "display_name": "Python 3",
   "language": "python",
   "name": "python3"
  },
  "language_info": {
   "codemirror_mode": {
    "name": "ipython",
    "version": 3
   },
   "file_extension": ".py",
   "mimetype": "text/x-python",
   "name": "python",
   "nbconvert_exporter": "python",
   "pygments_lexer": "ipython3",
   "version": "3.7.9"
  }
 },
 "nbformat": 4,
 "nbformat_minor": 4
}
